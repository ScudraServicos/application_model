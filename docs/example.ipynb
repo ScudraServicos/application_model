{
    "cells": [
        {
            "cell_type": "markdown",
            "metadata": {},
            "source": [
                "# How to use in pratice\n",
                "\n",
                "To use `application_model` in a project:"
            ]
        },
        {
            "cell_type": "code",
            "execution_count": null,
            "metadata": {},
            "outputs": [],
            "source": [
                "import application_model\n",
                "\n",
                "print(application_model.__version__)"
            ]
        },
        {
            "cell_type": "markdown",
            "metadata": {},
            "source": [
                "### Get payload\n",
                "\n",
                "Payload example extracted from a file."
            ]
        },
        {
            "cell_type": "code",
            "execution_count": null,
            "metadata": {},
            "outputs": [],
            "source": [
                "import json\n",
                "from importlib import resources\n",
                "\n",
                "# load payload data\n",
                "with resources.path(\"application_model.resources\", \"data.json\") as path:\n",
                "    with open(path, \"rb\") as file:\n",
                "        payload = file.read()\n",
                "\n",
                "# convert data to json\n",
                "payload_json = json.loads(payload)\n",
                "payload_json"
            ]
        },
        {
            "cell_type": "markdown",
            "metadata": {},
            "source": [
                "### Socre generation function"
            ]
        },
        {
            "cell_type": "code",
            "execution_count": null,
            "metadata": {},
            "outputs": [],
            "source": [
                "from application_model.application_model import generate_application_score"
            ]
        },
        {
            "cell_type": "code",
            "execution_count": null,
            "metadata": {},
            "outputs": [],
            "source": [
                "score = generate_application_score(payload_json)\n",
                "score"
            ]
        }
    ],
    "metadata": {
        "kernelspec": {
            "display_name": "pkg",
            "language": "python",
            "name": "python3"
        },
        "language_info": {
            "codemirror_mode": {
                "name": "ipython",
                "version": 3
            },
            "file_extension": ".py",
            "mimetype": "text/x-python",
            "name": "python",
            "nbconvert_exporter": "python",
            "pygments_lexer": "ipython3",
            "version": "3.12.1"
        }
    },
    "nbformat": 4,
    "nbformat_minor": 4
}
