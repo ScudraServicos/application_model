{
    "cells": [
        {
            "cell_type": "markdown",
            "metadata": {},
            "source": [
                "# How to use in pratice\n",
                "\n",
                "To use `application_model` in a project:"
            ]
        },
        {
            "cell_type": "code",
            "execution_count": 1,
            "metadata": {},
            "outputs": [
                {
                    "name": "stdout",
                    "output_type": "stream",
                    "text": [
                        "0.2.0\n"
                    ]
                }
            ],
            "source": [
                "import application_model\n",
                "\n",
                "print(application_model.__version__)"
            ]
        },
        {
            "cell_type": "markdown",
            "metadata": {},
            "source": [
                "### Get payload"
            ]
        },
        {
            "cell_type": "code",
            "execution_count": 2,
            "metadata": {},
            "outputs": [],
            "source": [
                "import json\n",
                "from importlib import resources"
            ]
        },
        {
            "cell_type": "code",
            "execution_count": 3,
            "metadata": {},
            "outputs": [
                {
                    "name": "stderr",
                    "output_type": "stream",
                    "text": [
                        "/var/folders/hz/s3bnfj_96dx04ykxrphtkdtw0000gn/T/ipykernel_64399/797486231.py:2: DeprecationWarning: path is deprecated. Use files() instead. Refer to https://importlib-resources.readthedocs.io/en/latest/using.html#migrating-from-legacy for migration advice.\n",
                        "  with resources.path(\"application_model.resources\", \"data.json\") as path:\n"
                    ]
                },
                {
                    "data": {
                        "text/plain": [
                            "{'ume-profession': 'COSTUREIRA',\n",
                            " 'ume-zipcode': 69059192.0,\n",
                            " 'ume-age_on_application': 63.0,\n",
                            " 'ume-segment': 'Móveis',\n",
                            " 'ume-retailer': 'apa-moveis',\n",
                            " 'ume-city': 'MANAUS',\n",
                            " 'ume-state': 'AMAZONAS',\n",
                            " 'bvsIncome-CLASSRENDAV2': 6.0,\n",
                            " 'bvsIncome-RendaPresumida': 1700.0,\n",
                            " 'bvsP5-Score': 0.3009,\n",
                            " 'bvsSubP5-Fintechs': 0.4499,\n",
                            " 'bvsSubP5-CartaoCredito': 0.395,\n",
                            " 'bvsSubP5-CreditoPessoal': 0.4589,\n",
                            " 'bvsSubP5-VAR_MoveisEletrodomesticos': 0.3379,\n",
                            " 'bvsSubP5-VAR_VestuarioAcessorios': 0.243,\n",
                            " 'bvsSubP5-FinancialmentoVeiculos': 0.4199}"
                        ]
                    },
                    "execution_count": 3,
                    "metadata": {},
                    "output_type": "execute_result"
                }
            ],
            "source": [
                "# load payload data\n",
                "with resources.path(\"application_model.resources\", \"data.json\") as path:\n",
                "    with open(path, \"rb\") as file:\n",
                "        payload = file.read()\n",
                "\n",
                "payload_json = json.loads(payload)\n",
                "payload_json"
            ]
        },
        {
            "cell_type": "markdown",
            "metadata": {},
            "source": [
                "### Socre generation function"
            ]
        },
        {
            "cell_type": "code",
            "execution_count": 4,
            "metadata": {},
            "outputs": [],
            "source": [
                "from application_model.application_model import generate_application_score"
            ]
        },
        {
            "cell_type": "code",
            "execution_count": 5,
            "metadata": {},
            "outputs": [
                {
                    "data": {
                        "text/plain": [
                            "0.40108762954840554"
                        ]
                    },
                    "execution_count": 5,
                    "metadata": {},
                    "output_type": "execute_result"
                }
            ],
            "source": [
                "score = generate_application_score(payload_json)\n",
                "score"
            ]
        }
    ],
    "metadata": {
        "kernelspec": {
            "display_name": "pkg",
            "language": "python",
            "name": "python3"
        },
        "language_info": {
            "codemirror_mode": {
                "name": "ipython",
                "version": 3
            },
            "file_extension": ".py",
            "mimetype": "text/x-python",
            "name": "python",
            "nbconvert_exporter": "python",
            "pygments_lexer": "ipython3",
            "version": "3.12.1"
        }
    },
    "nbformat": 4,
    "nbformat_minor": 4
}
